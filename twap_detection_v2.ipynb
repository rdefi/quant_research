{
 "cells": [
  {
   "cell_type": "markdown",
   "metadata": {},
   "source": [
    "## TWAP (Time-Weighted Average Price)\n",
    "##### (My investigation here is not finished - still a work in progress)"
   ]
  },
  {
   "cell_type": "markdown",
   "metadata": {},
   "source": [
    "##### As their name suggests, TWAPs accumulate an average amount of an asset over a time interval.\n",
    "##### Often there may be steady transacting while prices are flat, but then the market sees the persistent bid or offer and front runs it.\n",
    "##### Here I attempt to see if there is a way to detect net TWAP-like behavior in the market\n",
    "##### (We can never know for sure as we do not have inside access to participants using TWAPs to buy or sell)"
   ]
  },
  {
   "cell_type": "code",
   "execution_count": 1,
   "metadata": {},
   "outputs": [],
   "source": [
    "import pandas as pd\n",
    "import numpy as np\n",
    "import matplotlib.pyplot as plt"
   ]
  },
  {
   "cell_type": "code",
   "execution_count": 2,
   "metadata": {},
   "outputs": [
    {
     "name": "stdout",
     "output_type": "stream",
     "text": [
      "                       time     open     high      low    close   Volume  \\\n",
      "0 2023-04-16 16:00:00-04:00  2138.92  2142.02  2120.00  2136.51  785.366   \n",
      "1 2023-04-16 16:15:00-04:00  2135.99  2145.90  2135.73  2145.34  202.036   \n",
      "2 2023-04-16 16:30:00-04:00  2145.35  2152.52  2142.46  2151.00  492.777   \n",
      "3 2023-04-16 16:45:00-04:00  2151.42  2156.41  2143.81  2146.31  172.163   \n",
      "4 2023-04-16 17:00:00-04:00  2146.36  2150.75  2135.14  2139.39  238.103   \n",
      "\n",
      "    open_int  \n",
      "0  11754.415  \n",
      "1  11764.052  \n",
      "2  11808.052  \n",
      "3  11724.149  \n",
      "4  11711.973  \n"
     ]
    }
   ],
   "source": [
    "eth_data = pd.read_csv(\"../Desktop/crypto_data_python/binance_ethusdt_042523_15min.csv\")\n",
    "eth_data = eth_data[[\"time\", \"open\", \"high\", \"low\", \"close\", \"Volume\", \"Crypto Open Interest (Open)\"]]\n",
    "\n",
    "# Now eliminate the error \"A value is trying to be set on a copy of a slice from a DataFrame\":\n",
    "eth_prices = eth_data.copy()\n",
    "eth_prices.rename(columns={\"Crypto Open Interest (Open)\": \"open_int\"}, inplace=True)\n",
    "# eth_prices[\"time\"] = pd.to_datetime(eth_prices[\"time\"], format=\"%Y-%m-%dT%H:%M:%S.%f\")\n",
    "eth_prices[\"time\"] = pd.to_datetime(eth_prices[\"time\"])\n",
    "print(eth_prices.head())"
   ]
  },
  {
   "cell_type": "markdown",
   "metadata": {},
   "source": [
    "#### 1. Look for price stability combined with a spike in volume"
   ]
  },
  {
   "cell_type": "code",
   "execution_count": 4,
   "metadata": {},
   "outputs": [
    {
     "name": "stdout",
     "output_type": "stream",
     "text": [
      "                        time     open     high      low    close   Volume  \\\n",
      "7  2023-04-16 17:45:00-04:00  2147.65  2155.99  2144.91  2151.23  218.529   \n",
      "8  2023-04-16 18:00:00-04:00  2152.26  2152.86  2147.06  2147.80  241.043   \n",
      "9  2023-04-16 18:15:00-04:00  2147.45  2148.62  2143.10  2144.22   70.747   \n",
      "10 2023-04-16 18:30:00-04:00  2144.44  2148.13  2142.02  2147.85   65.306   \n",
      "11 2023-04-16 18:45:00-04:00  2148.71  2150.00  2146.43  2149.49   47.186   \n",
      "\n",
      "     open_int       mid  price_flat  volume_inc_1st_pd  volume_inc_2nd_pd  \\\n",
      "7   11754.273  2150.450        True           1.383009           0.815844   \n",
      "8   11724.362  2149.960        True           0.815844           0.743641   \n",
      "9   11720.270  2145.860        True           0.743641           1.512772   \n",
      "10  11729.325  2145.075        True           1.512772           1.103025   \n",
      "11  11737.254  2148.215        True           1.103025           0.293504   \n",
      "\n",
      "    volume_increases  \n",
      "7              False  \n",
      "8              False  \n",
      "9              False  \n",
      "10              True  \n",
      "11             False  \n"
     ]
    }
   ],
   "source": [
    "# For stable prices, we use a deviation of +/- 3% as a cutoff\n",
    "eth_prices[\"mid\"] = (eth_prices[\"low\"] + eth_prices[\"high\"]) / 2\n",
    "# eth_prices[\"price_flat\"] = np.where((eth_prices[\"mid\"].shift(3) / eth_prices[\"mid\"].shift(4) > 0.97) \\\n",
    "#     & (eth_prices[\"mid\"].shift(3) / eth_prices[\"mid\"].shift(4) < 1.03) \\\n",
    "#     & (eth_prices[\"mid\"].shift(2) / eth_prices[\"mid\"].shift(3)  > 0.97) \\\n",
    "#     & (eth_prices[\"mid\"].shift(2) / eth_prices[\"mid\"].shift(3)  < 1.03), True, False)\n",
    "eth_prices[\"price_flat\"] = np.where(\n",
    "    (eth_prices[\"mid\"].shift(2) / eth_prices[\"mid\"].shift(3)  > 0.97) \\\n",
    "    & (eth_prices[\"mid\"].shift(2) / eth_prices[\"mid\"].shift(3)  < 1.03), True, False)\n",
    "\n",
    "\n",
    "# Ues a volume increase of at least 30% from 15-min pd to 15-min pd as a volume increase\n",
    "# eth_prices[\"volume_inc_1st_pd\"] = eth_prices[\"Volume\"].shift(3) / eth_prices[\"Volume\"].shift(4)\n",
    "eth_prices[\"volume_inc_2nd_pd\"] = eth_prices[\"Volume\"].shift(2) / eth_prices[\"Volume\"].shift(3)\n",
    "eth_prices.dropna(inplace=True)\n",
    "\n",
    "eth_prices[\"volume_increases\"] = np.where((eth_prices[\"volume_inc_1st_pd\"] > 1.1) \\\n",
    "    & (eth_prices[\"volume_inc_2nd_pd\"] > 1.1), True, False)\n",
    "    # & (eth_prices[\"volume_inc_2pd\"] > 1.1) & (eth_prices[\"volume_inc_3pd\"] > 1.1), True, False)\n",
    "\n",
    "print(eth_prices.head())"
   ]
  },
  {
   "cell_type": "markdown",
   "metadata": {},
   "source": [
    "#### 2. Look for higher lows or lower highs in the next period"
   ]
  },
  {
   "cell_type": "code",
   "execution_count": 5,
   "metadata": {},
   "outputs": [
    {
     "name": "stdout",
     "output_type": "stream",
     "text": [
      "                         time     open     high      low    close   Volume  \\\n",
      "831 2023-04-25 07:45:00-04:00  1839.19  1843.59  1838.12  1839.11   98.867   \n",
      "832 2023-04-25 08:00:00-04:00  1839.10  1840.42  1837.23  1838.16   58.928   \n",
      "833 2023-04-25 08:15:00-04:00  1837.98  1843.99  1837.95  1839.00  103.814   \n",
      "834 2023-04-25 08:30:00-04:00  1839.73  1839.73  1834.06  1836.92  129.473   \n",
      "835 2023-04-25 08:45:00-04:00  1836.66  1837.93  1834.93  1837.59   31.501   \n",
      "\n",
      "     open_int       mid  price_flat  volume_inc_1st_pd  volume_inc_2nd_pd  \\\n",
      "831  9237.620  1840.855        True           2.551227           0.274250   \n",
      "832  9236.827  1838.825        True           0.274250           3.613712   \n",
      "833  9240.074  1840.970        True           3.613712           0.400622   \n",
      "834  9226.574  1836.895        True           0.400622           0.596033   \n",
      "835  9277.905  1836.430        True           0.596033           1.761709   \n",
      "\n",
      "     volume_increases  higher_lows  lower_highs  \n",
      "831             False        False        False  \n",
      "832             False        False        False  \n",
      "833             False        False        False  \n",
      "834             False        False        False  \n",
      "835             False        False        False  \n"
     ]
    }
   ],
   "source": [
    "# Higher Lows\n",
    "conditions_hl = (eth_prices[\"low\"].shift(-1) > eth_prices[\"low\"]) \\\n",
    "    & (eth_prices[\"low\"].shift(-2) > eth_prices[\"low\"].shift(-1)) \\\n",
    "    # & (eth_prices[\"low\"].shift(2) > eth_prices[\"low\"].shift(3))\n",
    "\n",
    "eth_prices[\"higher_lows\"] = np.where(conditions_hl, True, False)\n",
    "\n",
    "# Lower Highs\n",
    "conditions_lh = (eth_prices[\"high\"].shift(-1) > eth_prices[\"high\"]) \\\n",
    "    & (eth_prices[\"high\"].shift(-2) > eth_prices[\"high\"].shift(-1)) \\\n",
    "    # & (eth_prices[\"high\"].shift(2) > eth_prices[\"high\"].shift(3))\n",
    "\n",
    "eth_prices[\"lower_highs\"] = np.where(conditions_lh, True, False)\n",
    "\n",
    "print(eth_prices.tail())"
   ]
  },
  {
   "cell_type": "markdown",
   "metadata": {},
   "source": [
    "### 3."
   ]
  },
  {
   "cell_type": "code",
   "execution_count": 6,
   "metadata": {},
   "outputs": [
    {
     "name": "stdout",
     "output_type": "stream",
     "text": [
      "                        time     open     high      low    close   Volume  \\\n",
      "7  2023-04-16 17:45:00-04:00  2147.65  2155.99  2144.91  2151.23  218.529   \n",
      "8  2023-04-16 18:00:00-04:00  2152.26  2152.86  2147.06  2147.80  241.043   \n",
      "9  2023-04-16 18:15:00-04:00  2147.45  2148.62  2143.10  2144.22   70.747   \n",
      "10 2023-04-16 18:30:00-04:00  2144.44  2148.13  2142.02  2147.85   65.306   \n",
      "11 2023-04-16 18:45:00-04:00  2148.71  2150.00  2146.43  2149.49   47.186   \n",
      "\n",
      "     open_int       mid  price_flat  volume_inc_1st_pd  volume_inc_2nd_pd  \\\n",
      "7   11754.273  2150.450        True           1.383009           0.815844   \n",
      "8   11724.362  2149.960        True           0.815844           0.743641   \n",
      "9   11720.270  2145.860        True           0.743641           1.512772   \n",
      "10  11729.325  2145.075        True           1.512772           1.103025   \n",
      "11  11737.254  2148.215        True           1.103025           0.293504   \n",
      "\n",
      "    volume_increases  higher_lows  lower_highs  open_int_upward  \\\n",
      "7              False        False        False            False   \n",
      "8              False        False        False            False   \n",
      "9              False        False        False            False   \n",
      "10              True        False         True            False   \n",
      "11             False        False        False            False   \n",
      "\n",
      "    open_int_downward  \n",
      "7               False  \n",
      "8               False  \n",
      "9               False  \n",
      "10              False  \n",
      "11              False  \n"
     ]
    }
   ],
   "source": [
    "eth_prices[\"open_int_upward\"] = np.where((eth_prices[\"open_int\"] > 1.03 * eth_prices[\"open_int\"].shift(1)), True, False)\n",
    "eth_prices[\"open_int_downward\"] = np.where((eth_prices[\"open_int\"] < 0.97 * eth_prices[\"open_int\"].shift(1)), True, False)\n",
    "print(eth_prices.head())"
   ]
  },
  {
   "cell_type": "code",
   "execution_count": 7,
   "metadata": {},
   "outputs": [
    {
     "name": "stdout",
     "output_type": "stream",
     "text": [
      "                         time  volume_increases\n",
      "10  2023-04-16 18:30:00-04:00              True\n",
      "20  2023-04-16 21:00:00-04:00              True\n",
      "48  2023-04-17 04:00:00-04:00              True\n",
      "56  2023-04-17 06:00:00-04:00              True\n",
      "57  2023-04-17 06:15:00-04:00              True\n",
      "..                        ...               ...\n",
      "806 2023-04-25 01:30:00-04:00              True\n",
      "807 2023-04-25 01:45:00-04:00              True\n",
      "814 2023-04-25 03:30:00-04:00              True\n",
      "819 2023-04-25 04:45:00-04:00              True\n",
      "830 2023-04-25 07:30:00-04:00              True\n",
      "\n",
      "[110 rows x 2 columns]\n"
     ]
    }
   ],
   "source": [
    "eth_prices = eth_prices[eth_prices[\"volume_increases\"] == True]\n",
    "print(eth_prices.loc[:,[\"time\", \"volume_increases\"]])"
   ]
  },
  {
   "cell_type": "code",
   "execution_count": 8,
   "metadata": {},
   "outputs": [
    {
     "name": "stdout",
     "output_type": "stream",
     "text": [
      "                         time     open     high      low    close   Volume  \\\n",
      "10  2023-04-16 18:30:00-04:00  2144.44  2148.13  2142.02  2147.85   65.306   \n",
      "20  2023-04-16 21:00:00-04:00  2101.95  2111.32  2093.11  2110.25  660.116   \n",
      "48  2023-04-17 04:00:00-04:00  2112.21  2114.86  2107.59  2112.36  236.594   \n",
      "56  2023-04-17 06:00:00-04:00  2110.67  2112.60  2106.10  2112.57  110.419   \n",
      "57  2023-04-17 06:15:00-04:00  2112.50  2112.59  2104.57  2106.53  130.787   \n",
      "58  2023-04-17 06:30:00-04:00  2106.38  2111.71  2104.56  2111.34  229.216   \n",
      "59  2023-04-17 06:45:00-04:00  2111.02  2114.42  2109.98  2113.63   33.189   \n",
      "60  2023-04-17 07:00:00-04:00  2113.94  2114.22  2111.35  2111.35   78.105   \n",
      "71  2023-04-17 09:45:00-04:00  2090.11  2092.68  2084.37  2091.35  201.267   \n",
      "78  2023-04-17 11:30:00-04:00  2091.38  2092.11  2083.22  2088.24  260.685   \n",
      "96  2023-04-17 16:00:00-04:00  2097.93  2101.44  2097.04  2097.70   50.841   \n",
      "107 2023-04-17 18:45:00-04:00  2099.78  2100.86  2097.54  2098.49   42.231   \n",
      "108 2023-04-17 19:00:00-04:00  2098.94  2099.75  2095.76  2095.89   34.969   \n",
      "115 2023-04-17 20:45:00-04:00  2090.44  2094.19  2089.57  2093.57   60.963   \n",
      "116 2023-04-17 21:00:00-04:00  2093.66  2094.23  2080.00  2082.48  225.380   \n",
      "119 2023-04-17 21:45:00-04:00  2092.84  2095.67  2091.88  2092.49   70.192   \n",
      "134 2023-04-18 01:30:00-04:00  2106.68  2113.42  2106.66  2111.24  208.748   \n",
      "135 2023-04-18 01:45:00-04:00  2111.28  2112.70  2108.19  2109.20  103.057   \n",
      "136 2023-04-18 02:00:00-04:00  2109.10  2118.18  2109.10  2111.74  500.400   \n",
      "152 2023-04-18 06:00:00-04:00  2125.80  2126.32  2122.81  2125.06   55.818   \n",
      "160 2023-04-18 08:00:00-04:00  2138.46  2141.58  2133.80  2137.41  260.320   \n",
      "168 2023-04-18 10:00:00-04:00  2133.29  2134.07  2122.14  2126.18  286.056   \n",
      "171 2023-04-18 10:45:00-04:00  2121.09  2123.17  2118.64  2119.37   48.291   \n",
      "175 2023-04-18 11:45:00-04:00  2116.12  2118.57  2112.17  2117.23   61.570   \n",
      "182 2023-04-18 13:30:00-04:00  2112.65  2116.00  2105.71  2108.93  264.280   \n",
      "\n",
      "      open_int       mid  price_flat  volume_inc_1st_pd  volume_inc_2nd_pd  \\\n",
      "10   11729.325  2145.075        True           1.512772           1.103025   \n",
      "20   11908.818  2102.215        True           6.244180           1.753501   \n",
      "48   12171.773  2111.225        True           2.741158           1.172936   \n",
      "56   12086.500  2109.350        True           1.142547           1.530550   \n",
      "57   12082.986  2108.580        True           1.530550           1.226844   \n",
      "58   12076.126  2108.135        True           1.226844           1.552704   \n",
      "59   12103.468  2112.200        True           1.552704           1.184461   \n",
      "60   12097.002  2112.785        True           1.184461           1.752590   \n",
      "71   11283.024  2088.525        True           2.070534           3.410802   \n",
      "78   11270.733  2087.665        True           2.268493           1.414159   \n",
      "96   11223.093  2099.240        True           1.327648           1.886434   \n",
      "107  11180.116  2099.200        True           1.231242           1.129422   \n",
      "108  11184.631  2097.755        True           1.129422           1.543092   \n",
      "115  11118.963  2091.880        True           1.622207           3.014074   \n",
      "116  11137.204  2087.115        True           3.014074           1.296436   \n",
      "119  11108.093  2093.775        True           3.696997           1.928530   \n",
      "134  11197.666  2110.040        True           1.297381           1.187296   \n",
      "135  11250.796  2110.445        True           1.187296           1.464031   \n",
      "136  11218.967  2113.640        True           1.464031           2.297747   \n",
      "152  10945.405  2124.565        True           2.877757           1.124947   \n",
      "160  11071.361  2137.690        True           2.442522           9.834990   \n",
      "168  11534.363  2128.105        True           1.753560           2.555869   \n",
      "171  11506.017  2120.905        True           2.980123           1.495711   \n",
      "175  11481.675  2115.370        True           2.241577           1.304782   \n",
      "182  11632.242  2110.855        True           1.343976           1.170974   \n",
      "\n",
      "     volume_increases  higher_lows  lower_highs  open_int_upward  \\\n",
      "10               True        False         True            False   \n",
      "20               True         True        False            False   \n",
      "48               True         True        False            False   \n",
      "56               True        False        False            False   \n",
      "57               True        False        False            False   \n",
      "58               True         True        False            False   \n",
      "59               True        False        False            False   \n",
      "60               True        False        False            False   \n",
      "71               True         True         True            False   \n",
      "78               True         True        False            False   \n",
      "96               True        False        False            False   \n",
      "107              True        False        False            False   \n",
      "108              True        False        False            False   \n",
      "115              True        False        False            False   \n",
      "116              True        False        False            False   \n",
      "119              True        False         True            False   \n",
      "134              True         True        False            False   \n",
      "135              True         True         True            False   \n",
      "136              True         True         True            False   \n",
      "152              True        False        False            False   \n",
      "160              True        False        False            False   \n",
      "168              True        False        False            False   \n",
      "171              True        False        False            False   \n",
      "175              True        False         True            False   \n",
      "182              True        False        False            False   \n",
      "\n",
      "     open_int_downward  twap_buy_possible  twap_sell_possible  \n",
      "10               False              False               False  \n",
      "20               False              False               False  \n",
      "48               False              False               False  \n",
      "56               False              False               False  \n",
      "57               False              False               False  \n",
      "58               False              False               False  \n",
      "59               False              False               False  \n",
      "60               False              False               False  \n",
      "71               False              False               False  \n",
      "78               False              False               False  \n",
      "96               False              False               False  \n",
      "107              False              False               False  \n",
      "108              False              False               False  \n",
      "115              False              False               False  \n",
      "116              False              False               False  \n",
      "119              False              False               False  \n",
      "134              False              False               False  \n",
      "135              False              False               False  \n",
      "136              False              False               False  \n",
      "152              False              False               False  \n",
      "160              False              False               False  \n",
      "168              False              False               False  \n",
      "171              False              False               False  \n",
      "175              False              False               False  \n",
      "182              False              False               False  \n"
     ]
    }
   ],
   "source": [
    "eth_prices[\"twap_buy_possible\"] = np.where((eth_prices[\"volume_increases\"] == True) \\\n",
    "    & (eth_prices[\"price_flat\"] == True) \\\n",
    "    & (eth_prices[\"higher_lows\"] == True) \\\n",
    "    & (eth_prices[\"open_int_upward\"] == True), True, False)\n",
    "eth_prices[\"twap_sell_possible\"] = np.where((eth_prices[\"volume_increases\"] == True) \\\n",
    "    & (eth_prices[\"price_flat\"] == True) \\\n",
    "    & (eth_prices[\"lower_highs\"] == True) \\\n",
    "    & (eth_prices[\"open_int_downward\"] == True), True, False)\n",
    "print(eth_prices.head(25))"
   ]
  },
  {
   "cell_type": "code",
   "execution_count": 9,
   "metadata": {},
   "outputs": [
    {
     "name": "stdout",
     "output_type": "stream",
     "text": [
      "Empty DataFrame\n",
      "Columns: [time, open, twap_buy_possible, twap_sell_possible]\n",
      "Index: []\n"
     ]
    }
   ],
   "source": [
    "twaps_possible = eth_prices[(eth_prices[\"twap_buy_possible\"] == True) | (eth_prices[\"twap_sell_possible\"] == True)]\n",
    "# twaps_possible = twaps_possible[[\"time\", \"open\", \"high\", \"low\",\"twap_buy_possible\",  \"twap_sell_possible\"]]\n",
    "twaps_possible = twaps_possible[[\"time\", \"open\",\"twap_buy_possible\",  \"twap_sell_possible\"]]\n",
    "\n",
    "print(twaps_possible.head(20))"
   ]
  },
  {
   "cell_type": "markdown",
   "metadata": {},
   "source": [
    "##### -> No data emerging from the constraints, will refine to see if other combinations generate the scenarios"
   ]
  },
  {
   "cell_type": "markdown",
   "metadata": {},
   "source": []
  }
 ],
 "metadata": {
  "interpreter": {
   "hash": "98590ff4fe04c8543246b2a01debd3de3c5ca9b666f43f1fa87d5110c692004c"
  },
  "kernelspec": {
   "display_name": "Python 3.10.0 64-bit",
   "language": "python",
   "name": "python3"
  },
  "language_info": {
   "codemirror_mode": {
    "name": "ipython",
    "version": 3
   },
   "file_extension": ".py",
   "mimetype": "text/x-python",
   "name": "python",
   "nbconvert_exporter": "python",
   "pygments_lexer": "ipython3",
   "version": "3.10.0"
  },
  "orig_nbformat": 4
 },
 "nbformat": 4,
 "nbformat_minor": 2
}
